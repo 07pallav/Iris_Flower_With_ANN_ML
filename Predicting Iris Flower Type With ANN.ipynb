{
 "cells": [
  {
   "cell_type": "code",
   "execution_count": null,
   "id": "7c57de16-f0f0-4023-bbbb-7b9a1d594dc0",
   "metadata": {},
   "outputs": [],
   "source": [
    "import pandas as pd\n",
    "import numpy as np\n",
    "import matplotlib.pyplot as plt\n",
    "import seaborn as sns"
   ]
  },
  {
   "cell_type": "code",
   "execution_count": null,
   "id": "8ef28f72-8ca2-498e-b646-feadd94f6097",
   "metadata": {},
   "outputs": [],
   "source": [
    "df=pd.read_csv('Iris.csv')"
   ]
  },
  {
   "cell_type": "code",
   "execution_count": null,
   "id": "70b4ba03-0ce1-4f82-87f9-f5ab9bbdf37b",
   "metadata": {},
   "outputs": [],
   "source": [
    "df.info()"
   ]
  },
  {
   "cell_type": "code",
   "execution_count": null,
   "id": "d1d1e346-bc1d-4634-84ba-e56da9435114",
   "metadata": {},
   "outputs": [],
   "source": [
    "df.describe()"
   ]
  },
  {
   "cell_type": "code",
   "execution_count": null,
   "id": "cc0ac6cb-ae5a-4ac1-8a31-e61d8f2ae48a",
   "metadata": {},
   "outputs": [],
   "source": [
    "import Om_stats"
   ]
  },
  {
   "cell_type": "code",
   "execution_count": null,
   "id": "220be2fb-9e66-4e02-bd1c-5dbba27cae40",
   "metadata": {},
   "outputs": [],
   "source": [
    "for col_name in df.select_dtypes('number').columns:\n",
    "    print(col_name)\n",
    "    Om_stats.cal_stats(df[col_name])\n",
    "    print('-'*50)"
   ]
  },
  {
   "cell_type": "code",
   "execution_count": null,
   "id": "fe0923d7-432d-4901-93db-e874f86ba6ee",
   "metadata": {},
   "outputs": [],
   "source": [
    "for col_name in df.select_dtypes('number').columns:\n",
    "    print(col_name)\n",
    "    sns.displot(df[col_name])\n",
    "    plt.show()"
   ]
  },
  {
   "cell_type": "code",
   "execution_count": null,
   "id": "2ce8d6c6-6f35-465f-aea1-494eeb52852d",
   "metadata": {},
   "outputs": [],
   "source": [
    "for col_name in df.select_dtypes('number').columns:\n",
    "    print(col_name)\n",
    "    sns.boxplot(df[col_name])\n",
    "    plt.show()"
   ]
  },
  {
   "cell_type": "code",
   "execution_count": null,
   "id": "7b3f9951-8857-4d04-a9d3-7af651bbaf81",
   "metadata": {},
   "outputs": [],
   "source": [
    "df['Species'].value_counts().plot(kind='bar')\n",
    "plt.show()"
   ]
  },
  {
   "cell_type": "code",
   "execution_count": null,
   "id": "514ec563-5e72-45f1-bd7e-3cf22d654180",
   "metadata": {},
   "outputs": [],
   "source": [
    "sns.pairplot(df,hue='Species')\n",
    "plt.show()"
   ]
  },
  {
   "cell_type": "code",
   "execution_count": null,
   "id": "53fba03a-41f5-4cad-9280-bde96ed28f34",
   "metadata": {},
   "outputs": [],
   "source": [
    "X=df.drop('Species',axis=1)\n",
    "y=df['Species']"
   ]
  },
  {
   "cell_type": "code",
   "execution_count": null,
   "id": "34fa778c-c887-4244-9bcb-73b50268bd0c",
   "metadata": {},
   "outputs": [],
   "source": [
    "from sklearn.preprocessing import MinMaxScaler\n",
    "mm=MinMaxScaler()\n",
    "X=mm.fit_transform(X)"
   ]
  },
  {
   "cell_type": "code",
   "execution_count": null,
   "id": "949a0bf0-7d25-438f-95c2-2ec5368e3ea1",
   "metadata": {},
   "outputs": [],
   "source": [
    "from sklearn.preprocessing import LabelBinarizer\n",
    "lb=LabelBinarizer()\n",
    "y_encoded=lb.fit_transform(y)"
   ]
  },
  {
   "cell_type": "code",
   "execution_count": null,
   "id": "00203c21-32ed-4c4c-b0ba-3893e4a7b180",
   "metadata": {},
   "outputs": [],
   "source": [
    "from sklearn.model_selection import train_test_split\n",
    "X_train,X_test,y_train,y_test=train_test_split(X,y_encoded,stratify=y)"
   ]
  },
  {
   "cell_type": "code",
   "execution_count": null,
   "id": "32d72fe4-3dd4-4776-9bea-cf07bb09052a",
   "metadata": {},
   "outputs": [],
   "source": [
    "#Deep Learning start here "
   ]
  },
  {
   "cell_type": "code",
   "execution_count": null,
   "id": "b3f51be8-5a52-40bd-a75b-2989405fdd30",
   "metadata": {},
   "outputs": [],
   "source": [
    "pip install tensorflow"
   ]
  },
  {
   "cell_type": "code",
   "execution_count": null,
   "id": "f9cf49ce-b34b-4669-a863-aa883c35f2c0",
   "metadata": {},
   "outputs": [],
   "source": [
    "from tensorflow.keras.models import Sequential\n",
    "from tensorflow.keras.layers import Dense"
   ]
  },
  {
   "cell_type": "code",
   "execution_count": null,
   "id": "c7ac762b-363d-4aad-9bda-878fe0d9dbcf",
   "metadata": {},
   "outputs": [],
   "source": [
    "#Build Model\n",
    "model=Sequential([\n",
    "    Dense(64,activation='relu',input_shape=(4,)),\n",
    "    Dense(32,activation='relu'),\n",
    "    Dense(16,activation='relu'),\n",
    "    Dense(3,activation='softmax') \n",
    "])\n",
    "\n",
    "#Compile Model\n",
    "model.compile(optimizer='adam',loss='categorical_crossentropy',metrics=['accuracy'])\n",
    "\n",
    "#Run Model\n",
    "model.fit(X_train,y_train,epochs=100,verbose=1)"
   ]
  },
  {
   "cell_type": "code",
   "execution_count": null,
   "id": "85a758f5-d451-4abe-acb2-815749b8f2ec",
   "metadata": {},
   "outputs": [],
   "source": [
    "#Evaluate Model\n",
    "loss,accuracy=model.evaluate(X_test,y_test,verbose=0)\n",
    "print(accuracy)"
   ]
  },
  {
   "cell_type": "code",
   "execution_count": null,
   "id": "2d021f75-9e9f-4567-b971-9106ded81436",
   "metadata": {},
   "outputs": [],
   "source": [
    "#SAVE MODEL\n",
    "model.save('Iris Flower Type Prediction.keras')"
   ]
  },
  {
   "cell_type": "code",
   "execution_count": null,
   "id": "e7cf4819-7683-42ee-9902-f24812a19237",
   "metadata": {},
   "outputs": [],
   "source": []
  },
  {
   "cell_type": "code",
   "execution_count": null,
   "id": "df630624-c88f-4cc8-b920-3d43ad5ae90c",
   "metadata": {},
   "outputs": [],
   "source": []
  }
 ],
 "metadata": {
  "kernelspec": {
   "display_name": "Python [conda env:base] *",
   "language": "python",
   "name": "conda-base-py"
  },
  "language_info": {
   "codemirror_mode": {
    "name": "ipython",
    "version": 3
   },
   "file_extension": ".py",
   "mimetype": "text/x-python",
   "name": "python",
   "nbconvert_exporter": "python",
   "pygments_lexer": "ipython3",
   "version": "3.12.7"
  }
 },
 "nbformat": 4,
 "nbformat_minor": 5
}
